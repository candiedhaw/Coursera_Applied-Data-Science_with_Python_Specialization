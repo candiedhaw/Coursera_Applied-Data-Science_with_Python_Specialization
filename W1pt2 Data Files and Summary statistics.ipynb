{
 "cells": [
  {
   "cell_type": "markdown",
   "metadata": {},
   "source": [
    "# Week1 Data Files and Summary statistics"
   ]
  },
  {
   "cell_type": "code",
   "execution_count": 9,
   "metadata": {},
   "outputs": [
    {
     "data": {
      "text/plain": [
       "[{'': '1',\n",
       "  'manufacturer': 'audi',\n",
       "  'model': 'a4',\n",
       "  'displ': '1.8',\n",
       "  'year': '1999',\n",
       "  'cyl': '4',\n",
       "  'trans': 'auto(l5)',\n",
       "  'drv': 'f',\n",
       "  'cty': '18',\n",
       "  'hwy': '29',\n",
       "  'fl': 'p',\n",
       "  'class': 'compact'},\n",
       " {'': '2',\n",
       "  'manufacturer': 'audi',\n",
       "  'model': 'a4',\n",
       "  'displ': '1.8',\n",
       "  'year': '1999',\n",
       "  'cyl': '4',\n",
       "  'trans': 'manual(m5)',\n",
       "  'drv': 'f',\n",
       "  'cty': '21',\n",
       "  'hwy': '29',\n",
       "  'fl': 'p',\n",
       "  'class': 'compact'},\n",
       " {'': '3',\n",
       "  'manufacturer': 'audi',\n",
       "  'model': 'a4',\n",
       "  'displ': '2',\n",
       "  'year': '2008',\n",
       "  'cyl': '4',\n",
       "  'trans': 'manual(m6)',\n",
       "  'drv': 'f',\n",
       "  'cty': '20',\n",
       "  'hwy': '31',\n",
       "  'fl': 'p',\n",
       "  'class': 'compact'}]"
      ]
     },
     "execution_count": 9,
     "metadata": {},
     "output_type": "execute_result"
    }
   ],
   "source": [
    "import csv\n",
    "\n",
    "%precision 2\n",
    "\n",
    "with open('mpg.csv') as csvfile:\n",
    "    mpg = list(csv.DictReader(csvfile))\n",
    "\n",
    "mpg[:3]"
   ]
  },
  {
   "cell_type": "code",
   "execution_count": 2,
   "metadata": {},
   "outputs": [
    {
     "data": {
      "text/plain": [
       "234"
      ]
     },
     "execution_count": 2,
     "metadata": {},
     "output_type": "execute_result"
    }
   ],
   "source": [
    "len(mpg)"
   ]
  },
  {
   "cell_type": "code",
   "execution_count": 5,
   "metadata": {},
   "outputs": [
    {
     "data": {
      "text/plain": [
       "dict_keys(['', 'manufacturer', 'model', 'displ', 'year', 'cyl', 'trans', 'drv', 'cty', 'hwy', 'fl', 'class'])"
      ]
     },
     "execution_count": 5,
     "metadata": {},
     "output_type": "execute_result"
    }
   ],
   "source": [
    "mpg[0].keys()"
   ]
  },
  {
   "cell_type": "code",
   "execution_count": 10,
   "metadata": {},
   "outputs": [
    {
     "name": "stdout",
     "output_type": "stream",
     "text": [
      "18\n",
      "21\n",
      "20\n",
      "21\n",
      "16\n",
      "18\n",
      "18\n",
      "18\n",
      "16\n",
      "20\n",
      "19\n",
      "15\n",
      "17\n",
      "17\n",
      "15\n",
      "15\n",
      "17\n",
      "16\n",
      "14\n",
      "11\n",
      "14\n",
      "13\n",
      "12\n",
      "16\n",
      "15\n",
      "16\n",
      "15\n",
      "15\n",
      "14\n",
      "11\n",
      "11\n",
      "14\n",
      "19\n",
      "22\n",
      "18\n",
      "18\n",
      "17\n",
      "18\n",
      "17\n",
      "16\n",
      "16\n",
      "17\n",
      "17\n",
      "11\n",
      "15\n",
      "15\n",
      "16\n",
      "16\n",
      "15\n",
      "14\n",
      "13\n",
      "14\n",
      "14\n",
      "14\n",
      "9\n",
      "11\n",
      "11\n",
      "13\n",
      "13\n",
      "9\n",
      "13\n",
      "11\n",
      "13\n",
      "11\n",
      "12\n",
      "9\n",
      "13\n",
      "13\n",
      "12\n",
      "9\n",
      "11\n",
      "11\n",
      "13\n",
      "11\n",
      "11\n",
      "11\n",
      "12\n",
      "14\n",
      "15\n",
      "14\n",
      "13\n",
      "13\n",
      "13\n",
      "14\n",
      "14\n",
      "13\n",
      "13\n",
      "13\n",
      "11\n",
      "13\n",
      "18\n",
      "18\n",
      "17\n",
      "16\n",
      "15\n",
      "15\n",
      "15\n",
      "15\n",
      "14\n",
      "28\n",
      "24\n",
      "25\n",
      "23\n",
      "24\n",
      "26\n",
      "25\n",
      "24\n",
      "21\n",
      "18\n",
      "18\n",
      "21\n",
      "21\n",
      "18\n",
      "18\n",
      "19\n",
      "19\n",
      "19\n",
      "20\n",
      "20\n",
      "17\n",
      "16\n",
      "17\n",
      "17\n",
      "15\n",
      "15\n",
      "14\n",
      "9\n",
      "14\n",
      "13\n",
      "11\n",
      "11\n",
      "12\n",
      "12\n",
      "11\n",
      "11\n",
      "11\n",
      "12\n",
      "14\n",
      "13\n",
      "13\n",
      "13\n",
      "21\n",
      "19\n",
      "23\n",
      "23\n",
      "19\n",
      "19\n",
      "18\n",
      "19\n",
      "19\n",
      "14\n",
      "15\n",
      "14\n",
      "12\n",
      "18\n",
      "16\n",
      "17\n",
      "18\n",
      "16\n",
      "18\n",
      "18\n",
      "20\n",
      "19\n",
      "20\n",
      "18\n",
      "21\n",
      "19\n",
      "19\n",
      "19\n",
      "20\n",
      "20\n",
      "19\n",
      "20\n",
      "15\n",
      "16\n",
      "15\n",
      "15\n",
      "16\n",
      "14\n",
      "21\n",
      "21\n",
      "21\n",
      "21\n",
      "18\n",
      "18\n",
      "19\n",
      "21\n",
      "21\n",
      "21\n",
      "22\n",
      "18\n",
      "18\n",
      "18\n",
      "24\n",
      "24\n",
      "26\n",
      "28\n",
      "26\n",
      "11\n",
      "13\n",
      "15\n",
      "16\n",
      "17\n",
      "15\n",
      "15\n",
      "15\n",
      "16\n",
      "21\n",
      "19\n",
      "21\n",
      "22\n",
      "17\n",
      "33\n",
      "21\n",
      "19\n",
      "22\n",
      "21\n",
      "21\n",
      "21\n",
      "16\n",
      "17\n",
      "35\n",
      "29\n",
      "21\n",
      "19\n",
      "20\n",
      "20\n",
      "21\n",
      "18\n",
      "19\n",
      "21\n",
      "16\n",
      "18\n",
      "17\n"
     ]
    }
   ],
   "source": [
    "for a in mpg:\n",
    "    print(a['cty'])"
   ]
  },
  {
   "cell_type": "code",
   "execution_count": 13,
   "metadata": {},
   "outputs": [
    {
     "data": {
      "text/plain": [
       "16.86"
      ]
     },
     "execution_count": 13,
     "metadata": {},
     "output_type": "execute_result"
    }
   ],
   "source": [
    "sum(float(a['cty']) for a in mpg)/len(mpg)# The average mpg in city"
   ]
  },
  {
   "cell_type": "code",
   "execution_count": 15,
   "metadata": {},
   "outputs": [
    {
     "data": {
      "text/plain": [
       "23.44"
      ]
     },
     "execution_count": 15,
     "metadata": {},
     "output_type": "execute_result"
    }
   ],
   "source": [
    "sum(float(a['hwy'])for a in mpg)/len(mpg)# The average mpg in hwy"
   ]
  },
  {
   "cell_type": "code",
   "execution_count": 10,
   "metadata": {},
   "outputs": [
    {
     "data": {
      "text/plain": [
       "{'4', '5', '6', '8'}"
      ]
     },
     "execution_count": 10,
     "metadata": {},
     "output_type": "execute_result"
    }
   ],
   "source": [
    "cylinders = set(a['cyl'] for a in mpg)\n",
    "cylinders"
   ]
  },
  {
   "cell_type": "markdown",
   "metadata": {},
   "source": [
    "for each type of cylinder, what is the average mpg in city"
   ]
  },
  {
   "cell_type": "code",
   "execution_count": 18,
   "metadata": {},
   "outputs": [
    {
     "data": {
      "text/plain": [
       "[('8', 12.57), ('6', 16.22), ('4', 21.01), ('5', 20.50)]"
      ]
     },
     "execution_count": 18,
     "metadata": {},
     "output_type": "execute_result"
    }
   ],
   "source": [
    "ctyMpgByCyl = []\n",
    "\n",
    "for c in cylinders:\n",
    "    summpg = 0\n",
    "    cyltypecount = 0\n",
    "    for a in mpg:\n",
    "        if a['cyl'] == c:\n",
    "            summpg += float(a['cty'])\n",
    "            cyltypecount += 1\n",
    "    ctyMpgByCyl.append((c, summpg/cyltypecount))\n",
    "ctyMpgByCyl"
   ]
  },
  {
   "cell_type": "markdown",
   "metadata": {},
   "source": [
    "rank the cylinder size"
   ]
  },
  {
   "cell_type": "code",
   "execution_count": 20,
   "metadata": {},
   "outputs": [
    {
     "data": {
      "text/plain": [
       "[('4', 21.01), ('5', 20.50), ('6', 16.22), ('8', 12.57)]"
      ]
     },
     "execution_count": 20,
     "metadata": {},
     "output_type": "execute_result"
    }
   ],
   "source": [
    "ctyMpgByCyl.sort(key=lambda x: x[0])\n",
    "ctyMpgByCyl"
   ]
  },
  {
   "cell_type": "markdown",
   "metadata": {},
   "source": [
    "for each type of class, the average mpg in city"
   ]
  },
  {
   "cell_type": "code",
   "execution_count": 22,
   "metadata": {},
   "outputs": [
    {
     "data": {
      "text/plain": [
       "{'2seater', 'compact', 'midsize', 'minivan', 'pickup', 'subcompact', 'suv'}"
      ]
     },
     "execution_count": 22,
     "metadata": {},
     "output_type": "execute_result"
    }
   ],
   "source": [
    "vehicleclass = set(a['class'] for a in mpg)\n",
    "vehicleclass"
   ]
  },
  {
   "cell_type": "code",
   "execution_count": 24,
   "metadata": {},
   "outputs": [
    {
     "data": {
      "text/plain": [
       "[('pickup', 13.00),\n",
       " ('suv', 13.50),\n",
       " ('2seater', 15.40),\n",
       " ('minivan', 15.82),\n",
       " ('midsize', 18.76),\n",
       " ('compact', 20.13),\n",
       " ('subcompact', 20.37)]"
      ]
     },
     "execution_count": 24,
     "metadata": {},
     "output_type": "execute_result"
    }
   ],
   "source": [
    "ctyMpgByClass = []\n",
    "\n",
    "for c in vehicleclass:\n",
    "    summpg = 0\n",
    "    count = 0\n",
    "    for a in mpg:\n",
    "        if a['class'] == c:\n",
    "            summpg += float(a['cty'])\n",
    "            count += 1\n",
    "    ctyMpgByClass.append((c, summpg/count))\n",
    "\n",
    "ctyMpgByClass.sort(key=lambda x: x[1]) #sort by mpg\n",
    "ctyMpgByClass       "
   ]
  },
  {
   "cell_type": "code",
   "execution_count": null,
   "metadata": {},
   "outputs": [],
   "source": []
  }
 ],
 "metadata": {
  "kernelspec": {
   "display_name": "Python 3",
   "language": "python",
   "name": "python3"
  },
  "language_info": {
   "codemirror_mode": {
    "name": "ipython",
    "version": 3
   },
   "file_extension": ".py",
   "mimetype": "text/x-python",
   "name": "python",
   "nbconvert_exporter": "python",
   "pygments_lexer": "ipython3",
   "version": "3.8.5"
  }
 },
 "nbformat": 4,
 "nbformat_minor": 4
}
